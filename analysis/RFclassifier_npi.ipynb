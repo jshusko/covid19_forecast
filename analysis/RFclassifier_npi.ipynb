{
 "cells": [
  {
   "cell_type": "code",
   "execution_count": 109,
   "metadata": {},
   "outputs": [],
   "source": [
    "import numpy as np\n",
    "import pandas as pd\n",
    "import matplotlib.pyplot as plt\n",
    "from sklearn.model_selection import train_test_split\n",
    "from sklearn.metrics import confusion_matrix, roc_curve \n",
    "from sklearn.neighbors import KNeighborsClassifier\n",
    "from sklearn.ensemble import RandomForestClassifier, AdaBoostClassifier\n",
    "from sklearn.neural_network import MLPClassifier\n",
    "from datetime import datetime\n"
   ]
  },
  {
   "cell_type": "code",
   "execution_count": 4,
   "metadata": {},
   "outputs": [],
   "source": [
    "df = pd.read_csv('Yu-Group Data.csv')"
   ]
  },
  {
   "cell_type": "code",
   "execution_count": 6,
   "metadata": {},
   "outputs": [
    {
     "data": {
      "text/plain": [
       "Index(['Unnamed: 0', 'countyFIPS', 'STATEFP', 'COUNTYFP', 'CountyName',\n",
       "       'StateName', 'State', 'lat', 'lon', 'POP_LATITUDE', 'POP_LONGITUDE',\n",
       "       'CensusRegionName', 'CensusDivisionName',\n",
       "       'Rural-UrbanContinuumCode2013', 'PopulationEstimate2018',\n",
       "       'PopTotalMale2017', 'PopTotalFemale2017', 'FracMale2017',\n",
       "       'PopulationEstimate65+2017', 'PopulationDensityperSqMile2010',\n",
       "       'CensusPopulation2010', 'MedianAge2010', '#EligibleforMedicare2018',\n",
       "       'MedicareEnrollment,AgedTot2017', '3-YrDiabetes2015-17',\n",
       "       'DiabetesPercentage', 'HeartDiseaseMortality', 'StrokeMortality',\n",
       "       'Smokers_Percentage', 'RespMortalityRate2014', '#FTEHospitalTotal2017',\n",
       "       'TotalM.D.'s,TotNon-FedandFed2017', '#HospParticipatinginNetwork2017',\n",
       "       '#Hospitals', '#ICU_beds', 'dem_to_rep_ratio', 'PopMale<52010',\n",
       "       'PopFmle<52010', 'PopMale5-92010', 'PopFmle5-92010', 'PopMale10-142010',\n",
       "       'PopFmle10-142010', 'PopMale15-192010', 'PopFmle15-192010',\n",
       "       'PopMale20-242010', 'PopFmle20-242010', 'PopMale25-292010',\n",
       "       'PopFmle25-292010', 'PopMale30-342010', 'PopFmle30-342010',\n",
       "       'PopMale35-442010', 'PopFmle35-442010', 'PopMale45-542010',\n",
       "       'PopFmle45-542010', 'PopMale55-592010', 'PopFmle55-592010',\n",
       "       'PopMale60-642010', 'PopFmle60-642010', 'PopMale65-742010',\n",
       "       'PopFmle65-742010', 'PopMale75-842010', 'PopFmle75-842010',\n",
       "       'PopMale>842010', 'PopFmle>842010', '3-YrMortalityAge<1Year2015-17',\n",
       "       '3-YrMortalityAge1-4Years2015-17', '3-YrMortalityAge5-14Years2015-17',\n",
       "       '3-YrMortalityAge15-24Years2015-17',\n",
       "       '3-YrMortalityAge25-34Years2015-17',\n",
       "       '3-YrMortalityAge35-44Years2015-17',\n",
       "       '3-YrMortalityAge45-54Years2015-17',\n",
       "       '3-YrMortalityAge55-64Years2015-17',\n",
       "       '3-YrMortalityAge65-74Years2015-17',\n",
       "       '3-YrMortalityAge75-84Years2015-17', '3-YrMortalityAge85+Years2015-17',\n",
       "       'mortality2015-17Estimated', 'stay at home', '>50 gatherings',\n",
       "       '>500 gatherings', 'public schools', 'restaurant dine-in',\n",
       "       'entertainment/gym', 'federal guidelines', 'foreign travel ban',\n",
       "       'SVIPercentile', 'HPSAShortage', 'HPSAServedPop', 'HPSAUnderservedPop'],\n",
       "      dtype='object')"
      ]
     },
     "execution_count": 6,
     "metadata": {},
     "output_type": "execute_result"
    }
   ],
   "source": [
    "df.columns"
   ]
  },
  {
   "cell_type": "code",
   "execution_count": 11,
   "metadata": {},
   "outputs": [],
   "source": [
    "npi = ['stay at home', '>50 gatherings','>500 gatherings', 'public schools', 'restaurant dine-in','entertainment/gym', 'federal guidelines', 'foreign travel ban']\n",
    "npi_df = df[npi]"
   ]
  },
  {
   "cell_type": "code",
   "execution_count": 13,
   "metadata": {},
   "outputs": [
    {
     "data": {
      "text/html": [
       "<div>\n",
       "<style scoped>\n",
       "    .dataframe tbody tr th:only-of-type {\n",
       "        vertical-align: middle;\n",
       "    }\n",
       "\n",
       "    .dataframe tbody tr th {\n",
       "        vertical-align: top;\n",
       "    }\n",
       "\n",
       "    .dataframe thead th {\n",
       "        text-align: right;\n",
       "    }\n",
       "</style>\n",
       "<table border=\"1\" class=\"dataframe\">\n",
       "  <thead>\n",
       "    <tr style=\"text-align: right;\">\n",
       "      <th></th>\n",
       "      <th>stay at home</th>\n",
       "      <th>&gt;50 gatherings</th>\n",
       "      <th>&gt;500 gatherings</th>\n",
       "      <th>public schools</th>\n",
       "      <th>restaurant dine-in</th>\n",
       "      <th>entertainment/gym</th>\n",
       "      <th>federal guidelines</th>\n",
       "      <th>foreign travel ban</th>\n",
       "    </tr>\n",
       "  </thead>\n",
       "  <tbody>\n",
       "    <tr>\n",
       "      <th>0</th>\n",
       "      <td>737519.0</td>\n",
       "      <td>737504.0</td>\n",
       "      <td>737497.0</td>\n",
       "      <td>737500.0</td>\n",
       "      <td>737503.0</td>\n",
       "      <td>737512.0</td>\n",
       "      <td>737500.0</td>\n",
       "      <td>737495.0</td>\n",
       "    </tr>\n",
       "    <tr>\n",
       "      <th>1</th>\n",
       "      <td>737519.0</td>\n",
       "      <td>737504.0</td>\n",
       "      <td>737497.0</td>\n",
       "      <td>737500.0</td>\n",
       "      <td>737503.0</td>\n",
       "      <td>737512.0</td>\n",
       "      <td>737500.0</td>\n",
       "      <td>737495.0</td>\n",
       "    </tr>\n",
       "    <tr>\n",
       "      <th>2</th>\n",
       "      <td>737519.0</td>\n",
       "      <td>737504.0</td>\n",
       "      <td>737497.0</td>\n",
       "      <td>737500.0</td>\n",
       "      <td>737503.0</td>\n",
       "      <td>737512.0</td>\n",
       "      <td>737500.0</td>\n",
       "      <td>737495.0</td>\n",
       "    </tr>\n",
       "    <tr>\n",
       "      <th>3</th>\n",
       "      <td>737519.0</td>\n",
       "      <td>737504.0</td>\n",
       "      <td>737497.0</td>\n",
       "      <td>737500.0</td>\n",
       "      <td>737503.0</td>\n",
       "      <td>737512.0</td>\n",
       "      <td>737500.0</td>\n",
       "      <td>737495.0</td>\n",
       "    </tr>\n",
       "    <tr>\n",
       "      <th>4</th>\n",
       "      <td>737519.0</td>\n",
       "      <td>737504.0</td>\n",
       "      <td>737497.0</td>\n",
       "      <td>737500.0</td>\n",
       "      <td>737503.0</td>\n",
       "      <td>737512.0</td>\n",
       "      <td>737500.0</td>\n",
       "      <td>737495.0</td>\n",
       "    </tr>\n",
       "    <tr>\n",
       "      <th>...</th>\n",
       "      <td>...</td>\n",
       "      <td>...</td>\n",
       "      <td>...</td>\n",
       "      <td>...</td>\n",
       "      <td>...</td>\n",
       "      <td>...</td>\n",
       "      <td>...</td>\n",
       "      <td>...</td>\n",
       "    </tr>\n",
       "    <tr>\n",
       "      <th>3239</th>\n",
       "      <td>737509.0</td>\n",
       "      <td>737509.0</td>\n",
       "      <td>737509.0</td>\n",
       "      <td>737507.0</td>\n",
       "      <td>737504.0</td>\n",
       "      <td>737509.0</td>\n",
       "      <td>737500.0</td>\n",
       "      <td>737495.0</td>\n",
       "    </tr>\n",
       "    <tr>\n",
       "      <th>3240</th>\n",
       "      <td>0.0</td>\n",
       "      <td>0.0</td>\n",
       "      <td>0.0</td>\n",
       "      <td>737500.0</td>\n",
       "      <td>737499.0</td>\n",
       "      <td>737499.0</td>\n",
       "      <td>737500.0</td>\n",
       "      <td>737495.0</td>\n",
       "    </tr>\n",
       "    <tr>\n",
       "      <th>3241</th>\n",
       "      <td>0.0</td>\n",
       "      <td>0.0</td>\n",
       "      <td>0.0</td>\n",
       "      <td>737500.0</td>\n",
       "      <td>737499.0</td>\n",
       "      <td>737499.0</td>\n",
       "      <td>737500.0</td>\n",
       "      <td>737495.0</td>\n",
       "    </tr>\n",
       "    <tr>\n",
       "      <th>3242</th>\n",
       "      <td>0.0</td>\n",
       "      <td>0.0</td>\n",
       "      <td>0.0</td>\n",
       "      <td>0.0</td>\n",
       "      <td>0.0</td>\n",
       "      <td>0.0</td>\n",
       "      <td>0.0</td>\n",
       "      <td>0.0</td>\n",
       "    </tr>\n",
       "    <tr>\n",
       "      <th>3243</th>\n",
       "      <td>0.0</td>\n",
       "      <td>0.0</td>\n",
       "      <td>0.0</td>\n",
       "      <td>0.0</td>\n",
       "      <td>0.0</td>\n",
       "      <td>0.0</td>\n",
       "      <td>0.0</td>\n",
       "      <td>0.0</td>\n",
       "    </tr>\n",
       "  </tbody>\n",
       "</table>\n",
       "<p>3244 rows × 8 columns</p>\n",
       "</div>"
      ],
      "text/plain": [
       "      stay at home  >50 gatherings  >500 gatherings  public schools  \\\n",
       "0         737519.0        737504.0         737497.0        737500.0   \n",
       "1         737519.0        737504.0         737497.0        737500.0   \n",
       "2         737519.0        737504.0         737497.0        737500.0   \n",
       "3         737519.0        737504.0         737497.0        737500.0   \n",
       "4         737519.0        737504.0         737497.0        737500.0   \n",
       "...            ...             ...              ...             ...   \n",
       "3239      737509.0        737509.0         737509.0        737507.0   \n",
       "3240           0.0             0.0              0.0        737500.0   \n",
       "3241           0.0             0.0              0.0        737500.0   \n",
       "3242           0.0             0.0              0.0             0.0   \n",
       "3243           0.0             0.0              0.0             0.0   \n",
       "\n",
       "      restaurant dine-in  entertainment/gym  federal guidelines  \\\n",
       "0               737503.0           737512.0            737500.0   \n",
       "1               737503.0           737512.0            737500.0   \n",
       "2               737503.0           737512.0            737500.0   \n",
       "3               737503.0           737512.0            737500.0   \n",
       "4               737503.0           737512.0            737500.0   \n",
       "...                  ...                ...                 ...   \n",
       "3239            737504.0           737509.0            737500.0   \n",
       "3240            737499.0           737499.0            737500.0   \n",
       "3241            737499.0           737499.0            737500.0   \n",
       "3242                 0.0                0.0                 0.0   \n",
       "3243                 0.0                0.0                 0.0   \n",
       "\n",
       "      foreign travel ban  \n",
       "0               737495.0  \n",
       "1               737495.0  \n",
       "2               737495.0  \n",
       "3               737495.0  \n",
       "4               737495.0  \n",
       "...                  ...  \n",
       "3239            737495.0  \n",
       "3240            737495.0  \n",
       "3241            737495.0  \n",
       "3242                 0.0  \n",
       "3243                 0.0  \n",
       "\n",
       "[3244 rows x 8 columns]"
      ]
     },
     "execution_count": 13,
     "metadata": {},
     "output_type": "execute_result"
    }
   ],
   "source": [
    "npi_df.fillna(0)"
   ]
  },
  {
   "cell_type": "code",
   "execution_count": 19,
   "metadata": {},
   "outputs": [
    {
     "data": {
      "text/plain": [
       "datetime.datetime(2020, 4, 4, 0, 0)"
      ]
     },
     "execution_count": 19,
     "metadata": {},
     "output_type": "execute_result"
    }
   ],
   "source": [
    "datetime.fromordinal(int(npi_df['stay at home'][0]))"
   ]
  },
  {
   "cell_type": "code",
   "execution_count": 20,
   "metadata": {},
   "outputs": [],
   "source": [
    "from collections import Counter"
   ]
  },
  {
   "cell_type": "code",
   "execution_count": 21,
   "metadata": {},
   "outputs": [
    {
     "data": {
      "text/plain": [
       "Counter({737500.0: 3219,\n",
       "         nan: 1,\n",
       "         nan: 1,\n",
       "         nan: 1,\n",
       "         nan: 1,\n",
       "         nan: 1,\n",
       "         nan: 1,\n",
       "         nan: 1,\n",
       "         nan: 1,\n",
       "         nan: 1,\n",
       "         nan: 1,\n",
       "         nan: 1,\n",
       "         nan: 1,\n",
       "         nan: 1,\n",
       "         nan: 1,\n",
       "         nan: 1,\n",
       "         nan: 1,\n",
       "         nan: 1,\n",
       "         nan: 1,\n",
       "         nan: 1,\n",
       "         nan: 1,\n",
       "         nan: 1,\n",
       "         nan: 1,\n",
       "         nan: 1,\n",
       "         nan: 1,\n",
       "         nan: 1})"
      ]
     },
     "execution_count": 21,
     "metadata": {},
     "output_type": "execute_result"
    }
   ],
   "source": [
    "Counter(npi_df['federal guidelines'])"
   ]
  },
  {
   "cell_type": "code",
   "execution_count": 22,
   "metadata": {},
   "outputs": [],
   "source": [
    "fed_date = 737500"
   ]
  },
  {
   "cell_type": "code",
   "execution_count": 53,
   "metadata": {},
   "outputs": [
    {
     "data": {
      "text/plain": [
       "datetime.datetime(2020, 3, 17, 0, 0)"
      ]
     },
     "execution_count": 53,
     "metadata": {},
     "output_type": "execute_result"
    }
   ],
   "source": [
    "datetime.fromordinal(737501)"
   ]
  },
  {
   "cell_type": "code",
   "execution_count": 48,
   "metadata": {},
   "outputs": [
    {
     "data": {
      "text/plain": [
       "3.0"
      ]
     },
     "execution_count": 48,
     "metadata": {},
     "output_type": "execute_result"
    }
   ],
   "source": [
    "(npi_df['stay at home'] - fed_date).min()"
   ]
  },
  {
   "cell_type": "code",
   "execution_count": 60,
   "metadata": {},
   "outputs": [
    {
     "data": {
      "text/plain": [
       "5.82864703936487"
      ]
     },
     "execution_count": 60,
     "metadata": {},
     "output_type": "execute_result"
    }
   ],
   "source": [
    "(npi_df['>50 gatherings'] - fed_date).min()"
   ]
  },
  {
   "cell_type": "code",
   "execution_count": 44,
   "metadata": {},
   "outputs": [
    {
     "data": {
      "text/plain": [
       "-5.0"
      ]
     },
     "execution_count": 44,
     "metadata": {},
     "output_type": "execute_result"
    }
   ],
   "source": [
    "(npi_df['>500 gatherings'] - fed_date).min()"
   ]
  },
  {
   "cell_type": "code",
   "execution_count": 43,
   "metadata": {},
   "outputs": [
    {
     "data": {
      "text/plain": [
       "-4.0"
      ]
     },
     "execution_count": 43,
     "metadata": {},
     "output_type": "execute_result"
    }
   ],
   "source": [
    "(npi_df['restaurant dine-in'] - fed_date).min()"
   ]
  },
  {
   "cell_type": "code",
   "execution_count": 42,
   "metadata": {},
   "outputs": [
    {
     "data": {
      "text/plain": [
       "-4.0"
      ]
     },
     "execution_count": 42,
     "metadata": {},
     "output_type": "execute_result"
    }
   ],
   "source": [
    "(npi_df['entertainment/gym'] - fed_date).min()"
   ]
  },
  {
   "cell_type": "code",
   "execution_count": 41,
   "metadata": {},
   "outputs": [
    {
     "data": {
      "text/plain": [
       "-1.0"
      ]
     },
     "execution_count": 41,
     "metadata": {},
     "output_type": "execute_result"
    }
   ],
   "source": [
    "(npi_df['public schools'] - fed_date).min()"
   ]
  },
  {
   "cell_type": "code",
   "execution_count": 68,
   "metadata": {},
   "outputs": [
    {
     "data": {
      "text/plain": [
       "Index(['Unnamed: 0', 'countyFIPS', 'STATEFP', 'COUNTYFP', 'CountyName',\n",
       "       'StateName', 'State', 'lat', 'lon', 'POP_LATITUDE', 'POP_LONGITUDE',\n",
       "       'CensusRegionName', 'CensusDivisionName',\n",
       "       'Rural-UrbanContinuumCode2013', 'PopulationEstimate2018',\n",
       "       'PopTotalMale2017', 'PopTotalFemale2017', 'FracMale2017',\n",
       "       'PopulationEstimate65+2017', 'PopulationDensityperSqMile2010',\n",
       "       'CensusPopulation2010', 'MedianAge2010', '#EligibleforMedicare2018',\n",
       "       'MedicareEnrollment,AgedTot2017', '3-YrDiabetes2015-17',\n",
       "       'DiabetesPercentage', 'HeartDiseaseMortality', 'StrokeMortality',\n",
       "       'Smokers_Percentage', 'RespMortalityRate2014', '#FTEHospitalTotal2017',\n",
       "       'TotalM.D.'s,TotNon-FedandFed2017', '#HospParticipatinginNetwork2017',\n",
       "       '#Hospitals', '#ICU_beds', 'dem_to_rep_ratio', 'PopMale<52010',\n",
       "       'PopFmle<52010', 'PopMale5-92010', 'PopFmle5-92010', 'PopMale10-142010',\n",
       "       'PopFmle10-142010', 'PopMale15-192010', 'PopFmle15-192010',\n",
       "       'PopMale20-242010', 'PopFmle20-242010', 'PopMale25-292010',\n",
       "       'PopFmle25-292010', 'PopMale30-342010', 'PopFmle30-342010',\n",
       "       'PopMale35-442010', 'PopFmle35-442010', 'PopMale45-542010',\n",
       "       'PopFmle45-542010', 'PopMale55-592010', 'PopFmle55-592010',\n",
       "       'PopMale60-642010', 'PopFmle60-642010', 'PopMale65-742010',\n",
       "       'PopFmle65-742010', 'PopMale75-842010', 'PopFmle75-842010',\n",
       "       'PopMale>842010', 'PopFmle>842010', '3-YrMortalityAge<1Year2015-17',\n",
       "       '3-YrMortalityAge1-4Years2015-17', '3-YrMortalityAge5-14Years2015-17',\n",
       "       '3-YrMortalityAge15-24Years2015-17',\n",
       "       '3-YrMortalityAge25-34Years2015-17',\n",
       "       '3-YrMortalityAge35-44Years2015-17',\n",
       "       '3-YrMortalityAge45-54Years2015-17',\n",
       "       '3-YrMortalityAge55-64Years2015-17',\n",
       "       '3-YrMortalityAge65-74Years2015-17',\n",
       "       '3-YrMortalityAge75-84Years2015-17', '3-YrMortalityAge85+Years2015-17',\n",
       "       'mortality2015-17Estimated', 'stay at home', '>50 gatherings',\n",
       "       '>500 gatherings', 'public schools', 'restaurant dine-in',\n",
       "       'entertainment/gym', 'federal guidelines', 'foreign travel ban',\n",
       "       'SVIPercentile', 'HPSAShortage', 'HPSAServedPop', 'HPSAUnderservedPop',\n",
       "       'Score'],\n",
       "      dtype='object')"
      ]
     },
     "execution_count": 68,
     "metadata": {},
     "output_type": "execute_result"
    }
   ],
   "source": [
    "df.columns"
   ]
  },
  {
   "cell_type": "code",
   "execution_count": 84,
   "metadata": {},
   "outputs": [
    {
     "data": {
      "text/html": [
       "<div>\n",
       "<style scoped>\n",
       "    .dataframe tbody tr th:only-of-type {\n",
       "        vertical-align: middle;\n",
       "    }\n",
       "\n",
       "    .dataframe tbody tr th {\n",
       "        vertical-align: top;\n",
       "    }\n",
       "\n",
       "    .dataframe thead th {\n",
       "        text-align: right;\n",
       "    }\n",
       "</style>\n",
       "<table border=\"1\" class=\"dataframe\">\n",
       "  <thead>\n",
       "    <tr style=\"text-align: right;\">\n",
       "      <th></th>\n",
       "      <th>Unnamed: 0</th>\n",
       "      <th>death_rate</th>\n",
       "      <th>Unnamed: 0.1</th>\n",
       "      <th>STATEFP</th>\n",
       "      <th>COUNTYFP</th>\n",
       "      <th>CountyName</th>\n",
       "      <th>StateName</th>\n",
       "      <th>State</th>\n",
       "      <th>lat</th>\n",
       "      <th>lon</th>\n",
       "      <th>...</th>\n",
       "      <th>&gt;500 gatherings</th>\n",
       "      <th>public schools</th>\n",
       "      <th>restaurant dine-in</th>\n",
       "      <th>entertainment/gym</th>\n",
       "      <th>federal guidelines</th>\n",
       "      <th>foreign travel ban</th>\n",
       "      <th>SVIPercentile</th>\n",
       "      <th>HPSAShortage</th>\n",
       "      <th>HPSAServedPop</th>\n",
       "      <th>HPSAUnderservedPop</th>\n",
       "    </tr>\n",
       "  </thead>\n",
       "  <tbody>\n",
       "    <tr>\n",
       "      <th>0</th>\n",
       "      <td>10001</td>\n",
       "      <td>20.162419</td>\n",
       "      <td>313</td>\n",
       "      <td>10</td>\n",
       "      <td>1</td>\n",
       "      <td>Kent</td>\n",
       "      <td>DE</td>\n",
       "      <td>Delaware</td>\n",
       "      <td>39.087654</td>\n",
       "      <td>-75.573876</td>\n",
       "      <td>...</td>\n",
       "      <td>737508.0</td>\n",
       "      <td>737500</td>\n",
       "      <td>737496</td>\n",
       "      <td>737496.0</td>\n",
       "      <td>737500</td>\n",
       "      <td>737495</td>\n",
       "      <td>0.7268</td>\n",
       "      <td>17.66</td>\n",
       "      <td>0.0</td>\n",
       "      <td>52966.0</td>\n",
       "    </tr>\n",
       "    <tr>\n",
       "      <th>1</th>\n",
       "      <td>10003</td>\n",
       "      <td>16.269320</td>\n",
       "      <td>314</td>\n",
       "      <td>10</td>\n",
       "      <td>3</td>\n",
       "      <td>New Castle</td>\n",
       "      <td>DE</td>\n",
       "      <td>Delaware</td>\n",
       "      <td>39.583358</td>\n",
       "      <td>-75.655191</td>\n",
       "      <td>...</td>\n",
       "      <td>737508.0</td>\n",
       "      <td>737500</td>\n",
       "      <td>737496</td>\n",
       "      <td>737496.0</td>\n",
       "      <td>737500</td>\n",
       "      <td>737495</td>\n",
       "      <td>0.3761</td>\n",
       "      <td>NaN</td>\n",
       "      <td>NaN</td>\n",
       "      <td>NaN</td>\n",
       "    </tr>\n",
       "    <tr>\n",
       "      <th>2</th>\n",
       "      <td>10005</td>\n",
       "      <td>37.507741</td>\n",
       "      <td>315</td>\n",
       "      <td>10</td>\n",
       "      <td>5</td>\n",
       "      <td>Sussex</td>\n",
       "      <td>DE</td>\n",
       "      <td>Delaware</td>\n",
       "      <td>38.665735</td>\n",
       "      <td>-75.406689</td>\n",
       "      <td>...</td>\n",
       "      <td>737508.0</td>\n",
       "      <td>737500</td>\n",
       "      <td>737496</td>\n",
       "      <td>737496.0</td>\n",
       "      <td>737500</td>\n",
       "      <td>737495</td>\n",
       "      <td>0.4019</td>\n",
       "      <td>21.79</td>\n",
       "      <td>0.0</td>\n",
       "      <td>65373.0</td>\n",
       "    </tr>\n",
       "    <tr>\n",
       "      <th>3</th>\n",
       "      <td>11001</td>\n",
       "      <td>43.276794</td>\n",
       "      <td>316</td>\n",
       "      <td>11</td>\n",
       "      <td>1</td>\n",
       "      <td>Washington</td>\n",
       "      <td>DC</td>\n",
       "      <td>District Of Columbia</td>\n",
       "      <td>38.910787</td>\n",
       "      <td>-77.034099</td>\n",
       "      <td>...</td>\n",
       "      <td>737509.0</td>\n",
       "      <td>737500</td>\n",
       "      <td>737500</td>\n",
       "      <td>737500.0</td>\n",
       "      <td>737500</td>\n",
       "      <td>737495</td>\n",
       "      <td>0.5965</td>\n",
       "      <td>NaN</td>\n",
       "      <td>NaN</td>\n",
       "      <td>NaN</td>\n",
       "    </tr>\n",
       "    <tr>\n",
       "      <th>4</th>\n",
       "      <td>12001</td>\n",
       "      <td>1.852154</td>\n",
       "      <td>317</td>\n",
       "      <td>12</td>\n",
       "      <td>1</td>\n",
       "      <td>Alachua</td>\n",
       "      <td>FL</td>\n",
       "      <td>Florida</td>\n",
       "      <td>29.669178</td>\n",
       "      <td>-82.357751</td>\n",
       "      <td>...</td>\n",
       "      <td>737501.0</td>\n",
       "      <td>737500</td>\n",
       "      <td>737504</td>\n",
       "      <td>737504.0</td>\n",
       "      <td>737500</td>\n",
       "      <td>737495</td>\n",
       "      <td>0.4729</td>\n",
       "      <td>29.84</td>\n",
       "      <td>12780.0</td>\n",
       "      <td>89514.0</td>\n",
       "    </tr>\n",
       "  </tbody>\n",
       "</table>\n",
       "<p>5 rows × 89 columns</p>\n",
       "</div>"
      ],
      "text/plain": [
       "   Unnamed: 0  death_rate  Unnamed: 0.1  STATEFP  COUNTYFP  CountyName  \\\n",
       "0       10001   20.162419           313       10         1        Kent   \n",
       "1       10003   16.269320           314       10         3  New Castle   \n",
       "2       10005   37.507741           315       10         5      Sussex   \n",
       "3       11001   43.276794           316       11         1  Washington   \n",
       "4       12001    1.852154           317       12         1     Alachua   \n",
       "\n",
       "  StateName                 State        lat        lon  ...  >500 gatherings  \\\n",
       "0        DE              Delaware  39.087654 -75.573876  ...         737508.0   \n",
       "1        DE              Delaware  39.583358 -75.655191  ...         737508.0   \n",
       "2        DE              Delaware  38.665735 -75.406689  ...         737508.0   \n",
       "3        DC  District Of Columbia  38.910787 -77.034099  ...         737509.0   \n",
       "4        FL               Florida  29.669178 -82.357751  ...         737501.0   \n",
       "\n",
       "   public schools restaurant dine-in entertainment/gym  federal guidelines  \\\n",
       "0          737500             737496          737496.0              737500   \n",
       "1          737500             737496          737496.0              737500   \n",
       "2          737500             737496          737496.0              737500   \n",
       "3          737500             737500          737500.0              737500   \n",
       "4          737500             737504          737504.0              737500   \n",
       "\n",
       "   foreign travel ban  SVIPercentile  HPSAShortage  HPSAServedPop  \\\n",
       "0              737495         0.7268         17.66            0.0   \n",
       "1              737495         0.3761           NaN            NaN   \n",
       "2              737495         0.4019         21.79            0.0   \n",
       "3              737495         0.5965           NaN            NaN   \n",
       "4              737495         0.4729         29.84        12780.0   \n",
       "\n",
       "   HPSAUnderservedPop  \n",
       "0             52966.0  \n",
       "1                 NaN  \n",
       "2             65373.0  \n",
       "3                 NaN  \n",
       "4             89514.0  \n",
       "\n",
       "[5 rows x 89 columns]"
      ]
     },
     "execution_count": 84,
     "metadata": {},
     "output_type": "execute_result"
    }
   ],
   "source": [
    "dfmaster = pd.read_csv('master_yu.csv')\n",
    "dfmaster.head()"
   ]
  },
  {
   "cell_type": "code",
   "execution_count": 82,
   "metadata": {},
   "outputs": [],
   "source": [
    "scores=[]\n",
    "for i in range(len(dfmaster)):\n",
    "    indiv_score = []\n",
    "    if(dfmaster['>50 gatherings'][i] - fed_date < 0):\n",
    "        indiv_score.append(1)\n",
    "    else:\n",
    "        indiv_score.append(0)\n",
    "    if(dfmaster['>500 gatherings'][i] - fed_date < 0):\n",
    "        indiv_score.append(1)\n",
    "    else:\n",
    "        indiv_score.append(0)\n",
    "    if(dfmaster['restaurant dine-in'][i] - fed_date < 0):\n",
    "        indiv_score.append(1)\n",
    "    else:\n",
    "        indiv_score.append(0)\n",
    "    if(dfmaster['entertainment/gym'][i] - fed_date < 0):\n",
    "        indiv_score.append(1)\n",
    "    else:\n",
    "        indiv_score.append(0)\n",
    "    if(dfmaster['public schools'][i] - fed_date < 0):\n",
    "        indiv_score.append(1)\n",
    "    else:\n",
    "        indiv_score.append(0)\n",
    "    if(sum(indiv_score) > 0):\n",
    "        scores.append(1)\n",
    "    else:\n",
    "        scores.append(0)"
   ]
  },
  {
   "cell_type": "code",
   "execution_count": 83,
   "metadata": {},
   "outputs": [
    {
     "data": {
      "text/plain": [
       "Counter({1: 707, 0: 2118})"
      ]
     },
     "execution_count": 83,
     "metadata": {},
     "output_type": "execute_result"
    }
   ],
   "source": [
    "Counter(scores)"
   ]
  },
  {
   "cell_type": "code",
   "execution_count": 92,
   "metadata": {},
   "outputs": [],
   "source": [
    "dfmaster['Score'] = scores\n",
    "dfmaster=dfmaster.fillna(0)"
   ]
  },
  {
   "cell_type": "code",
   "execution_count": 86,
   "metadata": {},
   "outputs": [
    {
     "data": {
      "text/plain": [
       "Index(['Unnamed: 0', 'death_rate', 'Unnamed: 0.1', 'STATEFP', 'COUNTYFP',\n",
       "       'CountyName', 'StateName', 'State', 'lat', 'lon', 'POP_LATITUDE',\n",
       "       'POP_LONGITUDE', 'CensusRegionName', 'CensusDivisionName',\n",
       "       'Rural-UrbanContinuumCode2013', 'PopulationEstimate2018',\n",
       "       'PopTotalMale2017', 'PopTotalFemale2017', 'FracMale2017',\n",
       "       'PopulationEstimate65+2017', 'PopulationDensityperSqMile2010',\n",
       "       'CensusPopulation2010', 'MedianAge2010', '#EligibleforMedicare2018',\n",
       "       'MedicareEnrollment,AgedTot2017', '3-YrDiabetes2015-17',\n",
       "       'DiabetesPercentage', 'HeartDiseaseMortality', 'StrokeMortality',\n",
       "       'Smokers_Percentage', 'RespMortalityRate2014', '#FTEHospitalTotal2017',\n",
       "       'TotalM.D.'s,TotNon-FedandFed2017', '#HospParticipatinginNetwork2017',\n",
       "       '#Hospitals', '#ICU_beds', 'dem_to_rep_ratio', 'PopMale<52010',\n",
       "       'PopFmle<52010', 'PopMale5-92010', 'PopFmle5-92010', 'PopMale10-142010',\n",
       "       'PopFmle10-142010', 'PopMale15-192010', 'PopFmle15-192010',\n",
       "       'PopMale20-242010', 'PopFmle20-242010', 'PopMale25-292010',\n",
       "       'PopFmle25-292010', 'PopMale30-342010', 'PopFmle30-342010',\n",
       "       'PopMale35-442010', 'PopFmle35-442010', 'PopMale45-542010',\n",
       "       'PopFmle45-542010', 'PopMale55-592010', 'PopFmle55-592010',\n",
       "       'PopMale60-642010', 'PopFmle60-642010', 'PopMale65-742010',\n",
       "       'PopFmle65-742010', 'PopMale75-842010', 'PopFmle75-842010',\n",
       "       'PopMale>842010', 'PopFmle>842010', '3-YrMortalityAge<1Year2015-17',\n",
       "       '3-YrMortalityAge1-4Years2015-17', '3-YrMortalityAge5-14Years2015-17',\n",
       "       '3-YrMortalityAge15-24Years2015-17',\n",
       "       '3-YrMortalityAge25-34Years2015-17',\n",
       "       '3-YrMortalityAge35-44Years2015-17',\n",
       "       '3-YrMortalityAge45-54Years2015-17',\n",
       "       '3-YrMortalityAge55-64Years2015-17',\n",
       "       '3-YrMortalityAge65-74Years2015-17',\n",
       "       '3-YrMortalityAge75-84Years2015-17', '3-YrMortalityAge85+Years2015-17',\n",
       "       'mortality2015-17Estimated', 'stay at home', '>50 gatherings',\n",
       "       '>500 gatherings', 'public schools', 'restaurant dine-in',\n",
       "       'entertainment/gym', 'federal guidelines', 'foreign travel ban',\n",
       "       'SVIPercentile', 'HPSAShortage', 'HPSAServedPop', 'HPSAUnderservedPop'],\n",
       "      dtype='object')"
      ]
     },
     "execution_count": 86,
     "metadata": {},
     "output_type": "execute_result"
    }
   ],
   "source": [
    "dfmaster.columns"
   ]
  },
  {
   "cell_type": "code",
   "execution_count": 132,
   "metadata": {},
   "outputs": [],
   "source": [
    "estimators = ['death_rate', 'PopulationEstimate2018', 'PopulationEstimate65+2017','PopulationDensityperSqMile2010', 'MedianAge2010', 'DiabetesPercentage', 'HeartDiseaseMortality', 'StrokeMortality',\n",
    "       'Smokers_Percentage', 'RespMortalityRate2014', '#Hospitals', '#ICU_beds','SVIPercentile', 'HPSAShortage', 'HPSAServedPop', 'HPSAUnderservedPop', 'dem_to_rep_ratio']"
   ]
  },
  {
   "cell_type": "code",
   "execution_count": 133,
   "metadata": {},
   "outputs": [],
   "source": [
    "X_train, X_test, y_train, y_test = train_test_split(dfmaster[estimators], dfmaster['Score'], test_size=0.3)"
   ]
  },
  {
   "cell_type": "code",
   "execution_count": 141,
   "metadata": {},
   "outputs": [
    {
     "data": {
      "text/plain": [
       "(0.8089622641509434, 0.8973191704602934)"
      ]
     },
     "execution_count": 141,
     "metadata": {},
     "output_type": "execute_result"
    }
   ],
   "source": [
    "RFmod = RandomForestClassifier(max_depth=8, n_estimators=10, max_features=4)\n",
    "RFmod.fit(X_train,np.ravel(y_train))\n",
    "RFmod.score(X_test,y_test),RFmod.score(X_train,y_train)"
   ]
  },
  {
   "cell_type": "code",
   "execution_count": 143,
   "metadata": {},
   "outputs": [
    {
     "data": {
      "text/plain": [
       "array([[609,  17],\n",
       "       [145,  77]])"
      ]
     },
     "execution_count": 143,
     "metadata": {},
     "output_type": "execute_result"
    }
   ],
   "source": [
    "yhat = RFmod.predict(X_test)\n",
    "confusion_matrix(y_test,yhat)"
   ]
  },
  {
   "cell_type": "code",
   "execution_count": 144,
   "metadata": {},
   "outputs": [
    {
     "data": {
      "text/plain": [
       "[<matplotlib.lines.Line2D at 0x1a180c03d0>]"
      ]
     },
     "execution_count": 144,
     "metadata": {},
     "output_type": "execute_result"
    },
    {
     "data": {
      "image/png": "[encoded data removed]",
      "text/plain": [
       "<Figure size 432x288 with 1 Axes>"
      ]
     },
     "metadata": {
      "needs_background": "light"
     },
     "output_type": "display_data"
    }
   ],
   "source": [
    "fpr, tpr, thresholds = roc_curve(y_test, yhat)\n",
    "plt.plot(fpr,tpr)\n",
    "plt.plot(fpr,fpr)"
   ]
  }
 ],
 "metadata": {
  "kernelspec": {
   "display_name": "Python 3",
   "language": "python",
   "name": "python3"
  },
  "language_info": {
   "codemirror_mode": {
    "name": "ipython",
    "version": 3
   },
   "file_extension": ".py",
   "mimetype": "text/x-python",
   "name": "python",
   "nbconvert_exporter": "python",
   "pygments_lexer": "ipython3",
   "version": "3.7.6"
  }
 },
 "nbformat": 4,
 "nbformat_minor": 4
}
