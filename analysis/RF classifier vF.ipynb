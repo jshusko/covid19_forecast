{
 "cells": [
  {
   "cell_type": "code",
   "execution_count": 6,
   "metadata": {},
   "outputs": [],
   "source": [
    "import numpy as np\n",
    "import pandas as pd\n",
    "import matplotlib.pyplot as plt\n",
    "from sklearn.model_selection import train_test_split\n",
    "from sklearn.metrics import confusion_matrix, roc_curve \n",
    "from sklearn.neighbors import KNeighborsClassifier\n",
    "from sklearn.ensemble import RandomForestClassifier, AdaBoostClassifier\n",
    "from sklearn.neural_network import MLPClassifier\n",
    "from datetime import datetime"
   ]
  },
  {
   "cell_type": "code",
   "execution_count": 7,
   "metadata": {},
   "outputs": [],
   "source": [
    "df = pd.read_csv('Yu-Group Data.csv')"
   ]
  },
  {
   "cell_type": "code",
   "execution_count": 8,
   "metadata": {},
   "outputs": [
    {
     "data": {
      "text/plain": [
       "Index(['Unnamed: 0', 'countyFIPS', 'STATEFP', 'COUNTYFP', 'CountyName',\n",
       "       'StateName', 'State', 'lat', 'lon', 'POP_LATITUDE', 'POP_LONGITUDE',\n",
       "       'CensusRegionName', 'CensusDivisionName',\n",
       "       'Rural-UrbanContinuumCode2013', 'PopulationEstimate2018',\n",
       "       'PopTotalMale2017', 'PopTotalFemale2017', 'FracMale2017',\n",
       "       'PopulationEstimate65+2017', 'PopulationDensityperSqMile2010',\n",
       "       'CensusPopulation2010', 'MedianAge2010', '#EligibleforMedicare2018',\n",
       "       'MedicareEnrollment,AgedTot2017', '3-YrDiabetes2015-17',\n",
       "       'DiabetesPercentage', 'HeartDiseaseMortality', 'StrokeMortality',\n",
       "       'Smokers_Percentage', 'RespMortalityRate2014', '#FTEHospitalTotal2017',\n",
       "       'TotalM.D.'s,TotNon-FedandFed2017', '#HospParticipatinginNetwork2017',\n",
       "       '#Hospitals', '#ICU_beds', 'dem_to_rep_ratio', 'PopMale<52010',\n",
       "       'PopFmle<52010', 'PopMale5-92010', 'PopFmle5-92010', 'PopMale10-142010',\n",
       "       'PopFmle10-142010', 'PopMale15-192010', 'PopFmle15-192010',\n",
       "       'PopMale20-242010', 'PopFmle20-242010', 'PopMale25-292010',\n",
       "       'PopFmle25-292010', 'PopMale30-342010', 'PopFmle30-342010',\n",
       "       'PopMale35-442010', 'PopFmle35-442010', 'PopMale45-542010',\n",
       "       'PopFmle45-542010', 'PopMale55-592010', 'PopFmle55-592010',\n",
       "       'PopMale60-642010', 'PopFmle60-642010', 'PopMale65-742010',\n",
       "       'PopFmle65-742010', 'PopMale75-842010', 'PopFmle75-842010',\n",
       "       'PopMale>842010', 'PopFmle>842010', '3-YrMortalityAge<1Year2015-17',\n",
       "       '3-YrMortalityAge1-4Years2015-17', '3-YrMortalityAge5-14Years2015-17',\n",
       "       '3-YrMortalityAge15-24Years2015-17',\n",
       "       '3-YrMortalityAge25-34Years2015-17',\n",
       "       '3-YrMortalityAge35-44Years2015-17',\n",
       "       '3-YrMortalityAge45-54Years2015-17',\n",
       "       '3-YrMortalityAge55-64Years2015-17',\n",
       "       '3-YrMortalityAge65-74Years2015-17',\n",
       "       '3-YrMortalityAge75-84Years2015-17', '3-YrMortalityAge85+Years2015-17',\n",
       "       'mortality2015-17Estimated', 'stay at home', '>50 gatherings',\n",
       "       '>500 gatherings', 'public schools', 'restaurant dine-in',\n",
       "       'entertainment/gym', 'federal guidelines', 'foreign travel ban',\n",
       "       'SVIPercentile', 'HPSAShortage', 'HPSAServedPop', 'HPSAUnderservedPop'],\n",
       "      dtype='object')"
      ]
     },
     "execution_count": 8,
     "metadata": {},
     "output_type": "execute_result"
    }
   ],
   "source": [
    "df.columns"
   ]
  },
  {
   "cell_type": "code",
   "execution_count": 388,
   "metadata": {},
   "outputs": [
    {
     "data": {
      "text/html": [
       "<div>\n",
       "<style scoped>\n",
       "    .dataframe tbody tr th:only-of-type {\n",
       "        vertical-align: middle;\n",
       "    }\n",
       "\n",
       "    .dataframe tbody tr th {\n",
       "        vertical-align: top;\n",
       "    }\n",
       "\n",
       "    .dataframe thead th {\n",
       "        text-align: right;\n",
       "    }\n",
       "</style>\n",
       "<table border=\"1\" class=\"dataframe\">\n",
       "  <thead>\n",
       "    <tr style=\"text-align: right;\">\n",
       "      <th></th>\n",
       "      <th>stay at home</th>\n",
       "      <th>&gt;50 gatherings</th>\n",
       "      <th>&gt;500 gatherings</th>\n",
       "      <th>public schools</th>\n",
       "      <th>restaurant dine-in</th>\n",
       "      <th>entertainment/gym</th>\n",
       "      <th>federal guidelines</th>\n",
       "      <th>foreign travel ban</th>\n",
       "    </tr>\n",
       "  </thead>\n",
       "  <tbody>\n",
       "    <tr>\n",
       "      <th>0</th>\n",
       "      <td>737519.0</td>\n",
       "      <td>737504.0</td>\n",
       "      <td>737497.0</td>\n",
       "      <td>737500.0</td>\n",
       "      <td>737503.0</td>\n",
       "      <td>737512.0</td>\n",
       "      <td>737500.0</td>\n",
       "      <td>737495.0</td>\n",
       "    </tr>\n",
       "    <tr>\n",
       "      <th>1</th>\n",
       "      <td>737519.0</td>\n",
       "      <td>737504.0</td>\n",
       "      <td>737497.0</td>\n",
       "      <td>737500.0</td>\n",
       "      <td>737503.0</td>\n",
       "      <td>737512.0</td>\n",
       "      <td>737500.0</td>\n",
       "      <td>737495.0</td>\n",
       "    </tr>\n",
       "    <tr>\n",
       "      <th>2</th>\n",
       "      <td>737519.0</td>\n",
       "      <td>737504.0</td>\n",
       "      <td>737497.0</td>\n",
       "      <td>737500.0</td>\n",
       "      <td>737503.0</td>\n",
       "      <td>737512.0</td>\n",
       "      <td>737500.0</td>\n",
       "      <td>737495.0</td>\n",
       "    </tr>\n",
       "    <tr>\n",
       "      <th>3</th>\n",
       "      <td>737519.0</td>\n",
       "      <td>737504.0</td>\n",
       "      <td>737497.0</td>\n",
       "      <td>737500.0</td>\n",
       "      <td>737503.0</td>\n",
       "      <td>737512.0</td>\n",
       "      <td>737500.0</td>\n",
       "      <td>737495.0</td>\n",
       "    </tr>\n",
       "    <tr>\n",
       "      <th>4</th>\n",
       "      <td>737519.0</td>\n",
       "      <td>737504.0</td>\n",
       "      <td>737497.0</td>\n",
       "      <td>737500.0</td>\n",
       "      <td>737503.0</td>\n",
       "      <td>737512.0</td>\n",
       "      <td>737500.0</td>\n",
       "      <td>737495.0</td>\n",
       "    </tr>\n",
       "    <tr>\n",
       "      <th>...</th>\n",
       "      <td>...</td>\n",
       "      <td>...</td>\n",
       "      <td>...</td>\n",
       "      <td>...</td>\n",
       "      <td>...</td>\n",
       "      <td>...</td>\n",
       "      <td>...</td>\n",
       "      <td>...</td>\n",
       "    </tr>\n",
       "    <tr>\n",
       "      <th>3239</th>\n",
       "      <td>737509.0</td>\n",
       "      <td>737509.0</td>\n",
       "      <td>737509.0</td>\n",
       "      <td>737507.0</td>\n",
       "      <td>737504.0</td>\n",
       "      <td>737509.0</td>\n",
       "      <td>737500.0</td>\n",
       "      <td>737495.0</td>\n",
       "    </tr>\n",
       "    <tr>\n",
       "      <th>3240</th>\n",
       "      <td>NaN</td>\n",
       "      <td>NaN</td>\n",
       "      <td>NaN</td>\n",
       "      <td>737500.0</td>\n",
       "      <td>737499.0</td>\n",
       "      <td>737499.0</td>\n",
       "      <td>737500.0</td>\n",
       "      <td>737495.0</td>\n",
       "    </tr>\n",
       "    <tr>\n",
       "      <th>3241</th>\n",
       "      <td>NaN</td>\n",
       "      <td>NaN</td>\n",
       "      <td>NaN</td>\n",
       "      <td>737500.0</td>\n",
       "      <td>737499.0</td>\n",
       "      <td>737499.0</td>\n",
       "      <td>737500.0</td>\n",
       "      <td>737495.0</td>\n",
       "    </tr>\n",
       "    <tr>\n",
       "      <th>3242</th>\n",
       "      <td>NaN</td>\n",
       "      <td>NaN</td>\n",
       "      <td>NaN</td>\n",
       "      <td>NaN</td>\n",
       "      <td>NaN</td>\n",
       "      <td>NaN</td>\n",
       "      <td>NaN</td>\n",
       "      <td>NaN</td>\n",
       "    </tr>\n",
       "    <tr>\n",
       "      <th>3243</th>\n",
       "      <td>NaN</td>\n",
       "      <td>NaN</td>\n",
       "      <td>NaN</td>\n",
       "      <td>NaN</td>\n",
       "      <td>NaN</td>\n",
       "      <td>NaN</td>\n",
       "      <td>NaN</td>\n",
       "      <td>NaN</td>\n",
       "    </tr>\n",
       "  </tbody>\n",
       "</table>\n",
       "<p>3244 rows × 8 columns</p>\n",
       "</div>"
      ],
      "text/plain": [
       "      stay at home  >50 gatherings  >500 gatherings  public schools  \\\n",
       "0         737519.0        737504.0         737497.0        737500.0   \n",
       "1         737519.0        737504.0         737497.0        737500.0   \n",
       "2         737519.0        737504.0         737497.0        737500.0   \n",
       "3         737519.0        737504.0         737497.0        737500.0   \n",
       "4         737519.0        737504.0         737497.0        737500.0   \n",
       "...            ...             ...              ...             ...   \n",
       "3239      737509.0        737509.0         737509.0        737507.0   \n",
       "3240           NaN             NaN              NaN        737500.0   \n",
       "3241           NaN             NaN              NaN        737500.0   \n",
       "3242           NaN             NaN              NaN             NaN   \n",
       "3243           NaN             NaN              NaN             NaN   \n",
       "\n",
       "      restaurant dine-in  entertainment/gym  federal guidelines  \\\n",
       "0               737503.0           737512.0            737500.0   \n",
       "1               737503.0           737512.0            737500.0   \n",
       "2               737503.0           737512.0            737500.0   \n",
       "3               737503.0           737512.0            737500.0   \n",
       "4               737503.0           737512.0            737500.0   \n",
       "...                  ...                ...                 ...   \n",
       "3239            737504.0           737509.0            737500.0   \n",
       "3240            737499.0           737499.0            737500.0   \n",
       "3241            737499.0           737499.0            737500.0   \n",
       "3242                 NaN                NaN                 NaN   \n",
       "3243                 NaN                NaN                 NaN   \n",
       "\n",
       "      foreign travel ban  \n",
       "0               737495.0  \n",
       "1               737495.0  \n",
       "2               737495.0  \n",
       "3               737495.0  \n",
       "4               737495.0  \n",
       "...                  ...  \n",
       "3239            737495.0  \n",
       "3240            737495.0  \n",
       "3241            737495.0  \n",
       "3242                 NaN  \n",
       "3243                 NaN  \n",
       "\n",
       "[3244 rows x 8 columns]"
      ]
     },
     "execution_count": 388,
     "metadata": {},
     "output_type": "execute_result"
    }
   ],
   "source": [
    "npi = ['stay at home', '>50 gatherings','>500 gatherings', 'public schools', 'restaurant dine-in','entertainment/gym', 'federal guidelines', 'foreign travel ban']\n",
    "npi_df = df[npi]\n",
    "npi_df"
   ]
  },
  {
   "cell_type": "code",
   "execution_count": 11,
   "metadata": {},
   "outputs": [
    {
     "data": {
      "text/plain": [
       "datetime.datetime(2020, 4, 4, 0, 0)"
      ]
     },
     "execution_count": 11,
     "metadata": {},
     "output_type": "execute_result"
    }
   ],
   "source": [
    "datetime.fromordinal(int(npi_df['stay at home'][0]))"
   ]
  },
  {
   "cell_type": "code",
   "execution_count": 12,
   "metadata": {},
   "outputs": [],
   "source": [
    "from collections import Counter"
   ]
  },
  {
   "cell_type": "code",
   "execution_count": 13,
   "metadata": {},
   "outputs": [
    {
     "data": {
      "text/plain": [
       "Counter({737500.0: 3219,\n",
       "         nan: 1,\n",
       "         nan: 1,\n",
       "         nan: 1,\n",
       "         nan: 1,\n",
       "         nan: 1,\n",
       "         nan: 1,\n",
       "         nan: 1,\n",
       "         nan: 1,\n",
       "         nan: 1,\n",
       "         nan: 1,\n",
       "         nan: 1,\n",
       "         nan: 1,\n",
       "         nan: 1,\n",
       "         nan: 1,\n",
       "         nan: 1,\n",
       "         nan: 1,\n",
       "         nan: 1,\n",
       "         nan: 1,\n",
       "         nan: 1,\n",
       "         nan: 1,\n",
       "         nan: 1,\n",
       "         nan: 1,\n",
       "         nan: 1,\n",
       "         nan: 1,\n",
       "         nan: 1})"
      ]
     },
     "execution_count": 13,
     "metadata": {},
     "output_type": "execute_result"
    }
   ],
   "source": [
    "Counter(npi_df['federal guidelines'])"
   ]
  },
  {
   "cell_type": "code",
   "execution_count": 14,
   "metadata": {},
   "outputs": [],
   "source": [
    "fed_date = 737500"
   ]
  },
  {
   "cell_type": "code",
   "execution_count": 15,
   "metadata": {},
   "outputs": [
    {
     "data": {
      "text/plain": [
       "datetime.datetime(2020, 3, 17, 0, 0)"
      ]
     },
     "execution_count": 15,
     "metadata": {},
     "output_type": "execute_result"
    }
   ],
   "source": [
    "datetime.fromordinal(737501)"
   ]
  },
  {
   "cell_type": "code",
   "execution_count": 16,
   "metadata": {},
   "outputs": [
    {
     "data": {
      "text/plain": [
       "3.0"
      ]
     },
     "execution_count": 16,
     "metadata": {},
     "output_type": "execute_result"
    }
   ],
   "source": [
    "(npi_df['stay at home'] - fed_date).min()"
   ]
  },
  {
   "cell_type": "code",
   "execution_count": 17,
   "metadata": {},
   "outputs": [
    {
     "data": {
      "text/plain": [
       "-1.0"
      ]
     },
     "execution_count": 17,
     "metadata": {},
     "output_type": "execute_result"
    }
   ],
   "source": [
    "(npi_df['>50 gatherings'] - fed_date).min()"
   ]
  },
  {
   "cell_type": "code",
   "execution_count": 18,
   "metadata": {},
   "outputs": [
    {
     "data": {
      "text/plain": [
       "-5.0"
      ]
     },
     "execution_count": 18,
     "metadata": {},
     "output_type": "execute_result"
    }
   ],
   "source": [
    "(npi_df['>500 gatherings'] - fed_date).min()"
   ]
  },
  {
   "cell_type": "code",
   "execution_count": 19,
   "metadata": {},
   "outputs": [
    {
     "data": {
      "text/plain": [
       "-4.0"
      ]
     },
     "execution_count": 19,
     "metadata": {},
     "output_type": "execute_result"
    }
   ],
   "source": [
    "(npi_df['restaurant dine-in'] - fed_date).min()"
   ]
  },
  {
   "cell_type": "code",
   "execution_count": 20,
   "metadata": {},
   "outputs": [
    {
     "data": {
      "text/plain": [
       "-4.0"
      ]
     },
     "execution_count": 20,
     "metadata": {},
     "output_type": "execute_result"
    }
   ],
   "source": [
    "(npi_df['entertainment/gym'] - fed_date).min()"
   ]
  },
  {
   "cell_type": "code",
   "execution_count": 21,
   "metadata": {},
   "outputs": [
    {
     "data": {
      "text/plain": [
       "-1.0"
      ]
     },
     "execution_count": 21,
     "metadata": {},
     "output_type": "execute_result"
    }
   ],
   "source": [
    "(npi_df['public schools'] - fed_date).min()"
   ]
  },
  {
   "cell_type": "code",
   "execution_count": 22,
   "metadata": {},
   "outputs": [
    {
     "data": {
      "text/plain": [
       "Index(['Unnamed: 0', 'countyFIPS', 'STATEFP', 'COUNTYFP', 'CountyName',\n",
       "       'StateName', 'State', 'lat', 'lon', 'POP_LATITUDE', 'POP_LONGITUDE',\n",
       "       'CensusRegionName', 'CensusDivisionName',\n",
       "       'Rural-UrbanContinuumCode2013', 'PopulationEstimate2018',\n",
       "       'PopTotalMale2017', 'PopTotalFemale2017', 'FracMale2017',\n",
       "       'PopulationEstimate65+2017', 'PopulationDensityperSqMile2010',\n",
       "       'CensusPopulation2010', 'MedianAge2010', '#EligibleforMedicare2018',\n",
       "       'MedicareEnrollment,AgedTot2017', '3-YrDiabetes2015-17',\n",
       "       'DiabetesPercentage', 'HeartDiseaseMortality', 'StrokeMortality',\n",
       "       'Smokers_Percentage', 'RespMortalityRate2014', '#FTEHospitalTotal2017',\n",
       "       'TotalM.D.'s,TotNon-FedandFed2017', '#HospParticipatinginNetwork2017',\n",
       "       '#Hospitals', '#ICU_beds', 'dem_to_rep_ratio', 'PopMale<52010',\n",
       "       'PopFmle<52010', 'PopMale5-92010', 'PopFmle5-92010', 'PopMale10-142010',\n",
       "       'PopFmle10-142010', 'PopMale15-192010', 'PopFmle15-192010',\n",
       "       'PopMale20-242010', 'PopFmle20-242010', 'PopMale25-292010',\n",
       "       'PopFmle25-292010', 'PopMale30-342010', 'PopFmle30-342010',\n",
       "       'PopMale35-442010', 'PopFmle35-442010', 'PopMale45-542010',\n",
       "       'PopFmle45-542010', 'PopMale55-592010', 'PopFmle55-592010',\n",
       "       'PopMale60-642010', 'PopFmle60-642010', 'PopMale65-742010',\n",
       "       'PopFmle65-742010', 'PopMale75-842010', 'PopFmle75-842010',\n",
       "       'PopMale>842010', 'PopFmle>842010', '3-YrMortalityAge<1Year2015-17',\n",
       "       '3-YrMortalityAge1-4Years2015-17', '3-YrMortalityAge5-14Years2015-17',\n",
       "       '3-YrMortalityAge15-24Years2015-17',\n",
       "       '3-YrMortalityAge25-34Years2015-17',\n",
       "       '3-YrMortalityAge35-44Years2015-17',\n",
       "       '3-YrMortalityAge45-54Years2015-17',\n",
       "       '3-YrMortalityAge55-64Years2015-17',\n",
       "       '3-YrMortalityAge65-74Years2015-17',\n",
       "       '3-YrMortalityAge75-84Years2015-17', '3-YrMortalityAge85+Years2015-17',\n",
       "       'mortality2015-17Estimated', 'stay at home', '>50 gatherings',\n",
       "       '>500 gatherings', 'public schools', 'restaurant dine-in',\n",
       "       'entertainment/gym', 'federal guidelines', 'foreign travel ban',\n",
       "       'SVIPercentile', 'HPSAShortage', 'HPSAServedPop', 'HPSAUnderservedPop'],\n",
       "      dtype='object')"
      ]
     },
     "execution_count": 22,
     "metadata": {},
     "output_type": "execute_result"
    }
   ],
   "source": [
    "df.columns"
   ]
  },
  {
   "cell_type": "code",
   "execution_count": 23,
   "metadata": {},
   "outputs": [
    {
     "data": {
      "text/html": [
       "<div>\n",
       "<style scoped>\n",
       "    .dataframe tbody tr th:only-of-type {\n",
       "        vertical-align: middle;\n",
       "    }\n",
       "\n",
       "    .dataframe tbody tr th {\n",
       "        vertical-align: top;\n",
       "    }\n",
       "\n",
       "    .dataframe thead th {\n",
       "        text-align: right;\n",
       "    }\n",
       "</style>\n",
       "<table border=\"1\" class=\"dataframe\">\n",
       "  <thead>\n",
       "    <tr style=\"text-align: right;\">\n",
       "      <th></th>\n",
       "      <th>Unnamed: 0</th>\n",
       "      <th>death_rate</th>\n",
       "      <th>Unnamed: 0.1</th>\n",
       "      <th>STATEFP</th>\n",
       "      <th>COUNTYFP</th>\n",
       "      <th>CountyName</th>\n",
       "      <th>StateName</th>\n",
       "      <th>State</th>\n",
       "      <th>lat</th>\n",
       "      <th>lon</th>\n",
       "      <th>...</th>\n",
       "      <th>&gt;500 gatherings</th>\n",
       "      <th>public schools</th>\n",
       "      <th>restaurant dine-in</th>\n",
       "      <th>entertainment/gym</th>\n",
       "      <th>federal guidelines</th>\n",
       "      <th>foreign travel ban</th>\n",
       "      <th>SVIPercentile</th>\n",
       "      <th>HPSAShortage</th>\n",
       "      <th>HPSAServedPop</th>\n",
       "      <th>HPSAUnderservedPop</th>\n",
       "    </tr>\n",
       "  </thead>\n",
       "  <tbody>\n",
       "    <tr>\n",
       "      <th>0</th>\n",
       "      <td>10001</td>\n",
       "      <td>20.162419</td>\n",
       "      <td>313</td>\n",
       "      <td>10</td>\n",
       "      <td>1</td>\n",
       "      <td>Kent</td>\n",
       "      <td>DE</td>\n",
       "      <td>Delaware</td>\n",
       "      <td>39.087654</td>\n",
       "      <td>-75.573876</td>\n",
       "      <td>...</td>\n",
       "      <td>737508.0</td>\n",
       "      <td>737500</td>\n",
       "      <td>737496</td>\n",
       "      <td>737496.0</td>\n",
       "      <td>737500</td>\n",
       "      <td>737495</td>\n",
       "      <td>0.7268</td>\n",
       "      <td>17.66</td>\n",
       "      <td>0.0</td>\n",
       "      <td>52966.0</td>\n",
       "    </tr>\n",
       "    <tr>\n",
       "      <th>1</th>\n",
       "      <td>10003</td>\n",
       "      <td>16.269320</td>\n",
       "      <td>314</td>\n",
       "      <td>10</td>\n",
       "      <td>3</td>\n",
       "      <td>New Castle</td>\n",
       "      <td>DE</td>\n",
       "      <td>Delaware</td>\n",
       "      <td>39.583358</td>\n",
       "      <td>-75.655191</td>\n",
       "      <td>...</td>\n",
       "      <td>737508.0</td>\n",
       "      <td>737500</td>\n",
       "      <td>737496</td>\n",
       "      <td>737496.0</td>\n",
       "      <td>737500</td>\n",
       "      <td>737495</td>\n",
       "      <td>0.3761</td>\n",
       "      <td>NaN</td>\n",
       "      <td>NaN</td>\n",
       "      <td>NaN</td>\n",
       "    </tr>\n",
       "    <tr>\n",
       "      <th>2</th>\n",
       "      <td>10005</td>\n",
       "      <td>37.507741</td>\n",
       "      <td>315</td>\n",
       "      <td>10</td>\n",
       "      <td>5</td>\n",
       "      <td>Sussex</td>\n",
       "      <td>DE</td>\n",
       "      <td>Delaware</td>\n",
       "      <td>38.665735</td>\n",
       "      <td>-75.406689</td>\n",
       "      <td>...</td>\n",
       "      <td>737508.0</td>\n",
       "      <td>737500</td>\n",
       "      <td>737496</td>\n",
       "      <td>737496.0</td>\n",
       "      <td>737500</td>\n",
       "      <td>737495</td>\n",
       "      <td>0.4019</td>\n",
       "      <td>21.79</td>\n",
       "      <td>0.0</td>\n",
       "      <td>65373.0</td>\n",
       "    </tr>\n",
       "    <tr>\n",
       "      <th>3</th>\n",
       "      <td>11001</td>\n",
       "      <td>43.276794</td>\n",
       "      <td>316</td>\n",
       "      <td>11</td>\n",
       "      <td>1</td>\n",
       "      <td>Washington</td>\n",
       "      <td>DC</td>\n",
       "      <td>District Of Columbia</td>\n",
       "      <td>38.910787</td>\n",
       "      <td>-77.034099</td>\n",
       "      <td>...</td>\n",
       "      <td>737509.0</td>\n",
       "      <td>737500</td>\n",
       "      <td>737500</td>\n",
       "      <td>737500.0</td>\n",
       "      <td>737500</td>\n",
       "      <td>737495</td>\n",
       "      <td>0.5965</td>\n",
       "      <td>NaN</td>\n",
       "      <td>NaN</td>\n",
       "      <td>NaN</td>\n",
       "    </tr>\n",
       "    <tr>\n",
       "      <th>4</th>\n",
       "      <td>12001</td>\n",
       "      <td>1.852154</td>\n",
       "      <td>317</td>\n",
       "      <td>12</td>\n",
       "      <td>1</td>\n",
       "      <td>Alachua</td>\n",
       "      <td>FL</td>\n",
       "      <td>Florida</td>\n",
       "      <td>29.669178</td>\n",
       "      <td>-82.357751</td>\n",
       "      <td>...</td>\n",
       "      <td>737501.0</td>\n",
       "      <td>737500</td>\n",
       "      <td>737504</td>\n",
       "      <td>737504.0</td>\n",
       "      <td>737500</td>\n",
       "      <td>737495</td>\n",
       "      <td>0.4729</td>\n",
       "      <td>29.84</td>\n",
       "      <td>12780.0</td>\n",
       "      <td>89514.0</td>\n",
       "    </tr>\n",
       "  </tbody>\n",
       "</table>\n",
       "<p>5 rows × 89 columns</p>\n",
       "</div>"
      ],
      "text/plain": [
       "   Unnamed: 0  death_rate  Unnamed: 0.1  STATEFP  COUNTYFP  CountyName  \\\n",
       "0       10001   20.162419           313       10         1        Kent   \n",
       "1       10003   16.269320           314       10         3  New Castle   \n",
       "2       10005   37.507741           315       10         5      Sussex   \n",
       "3       11001   43.276794           316       11         1  Washington   \n",
       "4       12001    1.852154           317       12         1     Alachua   \n",
       "\n",
       "  StateName                 State        lat        lon  ...  >500 gatherings  \\\n",
       "0        DE              Delaware  39.087654 -75.573876  ...         737508.0   \n",
       "1        DE              Delaware  39.583358 -75.655191  ...         737508.0   \n",
       "2        DE              Delaware  38.665735 -75.406689  ...         737508.0   \n",
       "3        DC  District Of Columbia  38.910787 -77.034099  ...         737509.0   \n",
       "4        FL               Florida  29.669178 -82.357751  ...         737501.0   \n",
       "\n",
       "   public schools restaurant dine-in entertainment/gym  federal guidelines  \\\n",
       "0          737500             737496          737496.0              737500   \n",
       "1          737500             737496          737496.0              737500   \n",
       "2          737500             737496          737496.0              737500   \n",
       "3          737500             737500          737500.0              737500   \n",
       "4          737500             737504          737504.0              737500   \n",
       "\n",
       "   foreign travel ban  SVIPercentile  HPSAShortage  HPSAServedPop  \\\n",
       "0              737495         0.7268         17.66            0.0   \n",
       "1              737495         0.3761           NaN            NaN   \n",
       "2              737495         0.4019         21.79            0.0   \n",
       "3              737495         0.5965           NaN            NaN   \n",
       "4              737495         0.4729         29.84        12780.0   \n",
       "\n",
       "   HPSAUnderservedPop  \n",
       "0             52966.0  \n",
       "1                 NaN  \n",
       "2             65373.0  \n",
       "3                 NaN  \n",
       "4             89514.0  \n",
       "\n",
       "[5 rows x 89 columns]"
      ]
     },
     "execution_count": 23,
     "metadata": {},
     "output_type": "execute_result"
    }
   ],
   "source": [
    "dfmaster = pd.read_csv('master_yu.csv')\n",
    "dfmaster.head()"
   ]
  },
  {
   "cell_type": "code",
   "execution_count": 395,
   "metadata": {},
   "outputs": [
    {
     "data": {
      "text/plain": [
       "False"
      ]
     },
     "execution_count": 395,
     "metadata": {},
     "output_type": "execute_result"
    }
   ],
   "source": [
    "(npi_df['entertainment/gym'][3242]-3) < 0 #making sure NaN values will not be labeled as True"
   ]
  },
  {
   "cell_type": "code",
   "execution_count": 65,
   "metadata": {},
   "outputs": [],
   "source": [
    "scores=[]\n",
    "for i in range(len(dfmaster)):\n",
    "    indiv_score = []\n",
    "    if(dfmaster['>50 gatherings'][i] - fed_date < 0):\n",
    "        indiv_score.append(1)\n",
    "    else:\n",
    "        indiv_score.append(0)\n",
    "    if(dfmaster['>500 gatherings'][i] - fed_date < 0):\n",
    "        indiv_score.append(1)\n",
    "    else:\n",
    "        indiv_score.append(0)\n",
    "    if(dfmaster['restaurant dine-in'][i] - fed_date < 0):\n",
    "        indiv_score.append(1)\n",
    "    else:\n",
    "        indiv_score.append(0)\n",
    "    if(dfmaster['entertainment/gym'][i] - fed_date < 0):\n",
    "        indiv_score.append(1)\n",
    "    else:\n",
    "        indiv_score.append(0)\n",
    "    if(dfmaster['public schools'][i] - fed_date < 0):\n",
    "        indiv_score.append(1)\n",
    "    else:\n",
    "        indiv_score.append(0)\n",
    "    if(sum(indiv_score) > 0):\n",
    "        scores.append(1)\n",
    "    else:\n",
    "        scores.append(0)"
   ]
  },
  {
   "cell_type": "code",
   "execution_count": 66,
   "metadata": {},
   "outputs": [
    {
     "data": {
      "text/plain": [
       "Counter({1: 825, 0: 2000})"
      ]
     },
     "execution_count": 66,
     "metadata": {},
     "output_type": "execute_result"
    }
   ],
   "source": [
    "Counter(scores)"
   ]
  },
  {
   "cell_type": "code",
   "execution_count": 67,
   "metadata": {},
   "outputs": [],
   "source": [
    "dfmaster['Score'] = scores\n",
    "dfmaster=dfmaster.fillna(0)"
   ]
  },
  {
   "cell_type": "code",
   "execution_count": 68,
   "metadata": {},
   "outputs": [
    {
     "data": {
      "text/plain": [
       "Index(['Unnamed: 0', 'death_rate', 'Unnamed: 0.1', 'STATEFP', 'COUNTYFP',\n",
       "       'CountyName', 'StateName', 'State', 'lat', 'lon', 'POP_LATITUDE',\n",
       "       'POP_LONGITUDE', 'CensusRegionName', 'CensusDivisionName',\n",
       "       'Rural-UrbanContinuumCode2013', 'PopulationEstimate2018',\n",
       "       'PopTotalMale2017', 'PopTotalFemale2017', 'FracMale2017',\n",
       "       'PopulationEstimate65+2017', 'PopulationDensityperSqMile2010',\n",
       "       'CensusPopulation2010', 'MedianAge2010', '#EligibleforMedicare2018',\n",
       "       'MedicareEnrollment,AgedTot2017', '3-YrDiabetes2015-17',\n",
       "       'DiabetesPercentage', 'HeartDiseaseMortality', 'StrokeMortality',\n",
       "       'Smokers_Percentage', 'RespMortalityRate2014', '#FTEHospitalTotal2017',\n",
       "       'TotalM.D.'s,TotNon-FedandFed2017', '#HospParticipatinginNetwork2017',\n",
       "       '#Hospitals', '#ICU_beds', 'dem_to_rep_ratio', 'PopMale<52010',\n",
       "       'PopFmle<52010', 'PopMale5-92010', 'PopFmle5-92010', 'PopMale10-142010',\n",
       "       'PopFmle10-142010', 'PopMale15-192010', 'PopFmle15-192010',\n",
       "       'PopMale20-242010', 'PopFmle20-242010', 'PopMale25-292010',\n",
       "       'PopFmle25-292010', 'PopMale30-342010', 'PopFmle30-342010',\n",
       "       'PopMale35-442010', 'PopFmle35-442010', 'PopMale45-542010',\n",
       "       'PopFmle45-542010', 'PopMale55-592010', 'PopFmle55-592010',\n",
       "       'PopMale60-642010', 'PopFmle60-642010', 'PopMale65-742010',\n",
       "       'PopFmle65-742010', 'PopMale75-842010', 'PopFmle75-842010',\n",
       "       'PopMale>842010', 'PopFmle>842010', '3-YrMortalityAge<1Year2015-17',\n",
       "       '3-YrMortalityAge1-4Years2015-17', '3-YrMortalityAge5-14Years2015-17',\n",
       "       '3-YrMortalityAge15-24Years2015-17',\n",
       "       '3-YrMortalityAge25-34Years2015-17',\n",
       "       '3-YrMortalityAge35-44Years2015-17',\n",
       "       '3-YrMortalityAge45-54Years2015-17',\n",
       "       '3-YrMortalityAge55-64Years2015-17',\n",
       "       '3-YrMortalityAge65-74Years2015-17',\n",
       "       '3-YrMortalityAge75-84Years2015-17', '3-YrMortalityAge85+Years2015-17',\n",
       "       'mortality2015-17Estimated', 'stay at home', '>50 gatherings',\n",
       "       '>500 gatherings', 'public schools', 'restaurant dine-in',\n",
       "       'entertainment/gym', 'federal guidelines', 'foreign travel ban',\n",
       "       'SVIPercentile', 'HPSAShortage', 'HPSAServedPop', 'HPSAUnderservedPop',\n",
       "       'Score'],\n",
       "      dtype='object')"
      ]
     },
     "execution_count": 68,
     "metadata": {},
     "output_type": "execute_result"
    }
   ],
   "source": [
    "dfmaster.columns"
   ]
  },
  {
   "cell_type": "code",
   "execution_count": 31,
   "metadata": {},
   "outputs": [],
   "source": [
    "numerical_estimators2=['death_rate','PopulationEstimate2018',\n",
    "       'PopTotalMale2017', 'PopTotalFemale2017', 'FracMale2017',\n",
    "       'PopulationEstimate65+2017', 'PopulationDensityperSqMile2010',\n",
    "       'CensusPopulation2010', 'MedianAge2010', '#EligibleforMedicare2018',\n",
    "       'MedicareEnrollment,AgedTot2017', '3-YrDiabetes2015-17',\n",
    "       'DiabetesPercentage', 'HeartDiseaseMortality', 'StrokeMortality',\n",
    "       'Smokers_Percentage', 'RespMortalityRate2014', '#FTEHospitalTotal2017', \"TotalM.D.'s,TotNon-FedandFed2017\",'#HospParticipatinginNetwork2017',\n",
    "       '#Hospitals', '#ICU_beds', 'dem_to_rep_ratio', 'PopMale<52010','PopFmle<52010', 'PopMale5-92010', 'PopFmle5-92010', 'PopMale10-142010', 'PopFmle10-142010', 'PopMale15-192010', 'PopFmle15-192010',\n",
    "       'PopMale20-242010', 'PopFmle20-242010', 'PopMale25-292010','PopFmle25-292010', 'PopMale30-342010', 'PopFmle30-342010',\n",
    "       'PopMale35-442010', 'PopFmle35-442010', 'PopMale45-542010', 'PopFmle45-542010', 'PopMale55-592010', 'PopFmle55-592010',\n",
    "       'PopMale60-642010', 'PopFmle60-642010', 'PopMale65-742010','PopFmle65-742010', 'PopMale75-842010', 'PopFmle75-842010',    'PopMale>842010', 'PopFmle>842010', '3-YrMortalityAge<1Year2015-17',\n",
    "       '3-YrMortalityAge1-4Years2015-17', '3-YrMortalityAge5-14Years2015-17',\n",
    "       '3-YrMortalityAge15-24Years2015-17','3-YrMortalityAge25-34Years2015-17',    '3-YrMortalityAge35-44Years2015-17', '3-YrMortalityAge45-54Years2015-17','3-YrMortalityAge55-64Years2015-17', '3-YrMortalityAge65-74Years2015-17',\n",
    "       '3-YrMortalityAge75-84Years2015-17', '3-YrMortalityAge85+Years2015-17', 'mortality2015-17Estimated' ]"
   ]
  },
  {
   "cell_type": "code",
   "execution_count": 33,
   "metadata": {},
   "outputs": [],
   "source": [
    "X_train, X_test, y_train, y_test = train_test_split(dfmaster[numerical_estimators], dfmaster['Score'], test_size=0.3)"
   ]
  },
  {
   "cell_type": "code",
   "execution_count": 34,
   "metadata": {},
   "outputs": [
    {
     "data": {
      "text/plain": [
       "(0.7488207547169812, 0.8376327769347496)"
      ]
     },
     "execution_count": 34,
     "metadata": {},
     "output_type": "execute_result"
    }
   ],
   "source": [
    "RFmod = RandomForestClassifier(max_depth=7, n_estimators=7, max_features=5)\n",
    "RFmod.fit(X_train,np.ravel(y_train))\n",
    "RFmod.score(X_test,y_test),RFmod.score(X_train,y_train)"
   ]
  },
  {
   "cell_type": "code",
   "execution_count": 35,
   "metadata": {},
   "outputs": [
    {
     "data": {
      "text/plain": [
       "{'bootstrap': True,\n",
       " 'ccp_alpha': 0.0,\n",
       " 'class_weight': None,\n",
       " 'criterion': 'gini',\n",
       " 'max_depth': 7,\n",
       " 'max_features': 5,\n",
       " 'max_leaf_nodes': None,\n",
       " 'max_samples': None,\n",
       " 'min_impurity_decrease': 0.0,\n",
       " 'min_impurity_split': None,\n",
       " 'min_samples_leaf': 1,\n",
       " 'min_samples_split': 2,\n",
       " 'min_weight_fraction_leaf': 0.0,\n",
       " 'n_estimators': 7,\n",
       " 'n_jobs': None,\n",
       " 'oob_score': False,\n",
       " 'random_state': None,\n",
       " 'verbose': 0,\n",
       " 'warm_start': False}"
      ]
     },
     "execution_count": 35,
     "metadata": {},
     "output_type": "execute_result"
    }
   ],
   "source": [
    "RFmod.get_params()"
   ]
  },
  {
   "cell_type": "code",
   "execution_count": 36,
   "metadata": {},
   "outputs": [
    {
     "data": {
      "text/plain": [
       "array([[603,  26],\n",
       "       [187,  32]])"
      ]
     },
     "execution_count": 36,
     "metadata": {},
     "output_type": "execute_result"
    }
   ],
   "source": [
    "yhat = RFmod.predict(X_test)\n",
    "confusion_matrix(y_test,yhat)"
   ]
  },
  {
   "cell_type": "markdown",
   "metadata": {},
   "source": [
    "# The good stuff, ignore model construction above"
   ]
  },
  {
   "cell_type": "code",
   "execution_count": 297,
   "metadata": {},
   "outputs": [],
   "source": [
    "from sklearn.model_selection import RandomizedSearchCV\n",
    "from sklearn.model_selection import GridSearchCV"
   ]
  },
  {
   "cell_type": "code",
   "execution_count": 256,
   "metadata": {},
   "outputs": [],
   "source": [
    "X_train, X_test, y_train, y_test = train_test_split(dfmaster[numerical_estimators2], dfmaster['Score'], test_size=0.3)"
   ]
  },
  {
   "cell_type": "code",
   "execution_count": 306,
   "metadata": {},
   "outputs": [
    {
     "data": {
      "text/plain": [
       "{'n_estimators': [100, 155, 211, 266, 322, 377, 433, 488, 544, 600],\n",
       " 'max_features': ['auto', 'sqrt'],\n",
       " 'max_depth': [1, 3, 5, 7, 9, 11, 13, 15, 17, 20, None],\n",
       " 'min_samples_split': [2, 5],\n",
       " 'min_samples_leaf': [1, 2, 4],\n",
       " 'bootstrap': [False]}"
      ]
     },
     "execution_count": 306,
     "metadata": {},
     "output_type": "execute_result"
    }
   ],
   "source": [
    "# Number of trees in random forest\n",
    "n_estimators = [int(x) for x in np.linspace(start = 100, stop = 600, num = 10)]\n",
    "# Number of features to consider at every split\n",
    "max_features = ['auto', 'sqrt']\n",
    "# Maximum number of levels in tree\n",
    "max_depth = [int(x) for x in np.linspace(1, 20, num = 10)]\n",
    "max_depth.append(None)\n",
    "# Minimum number of samples required to split a node\n",
    "min_samples_split = [2, 5]\n",
    "# Minimum number of samples required at each leaf node\n",
    "min_samples_leaf = [1, 2, 4]\n",
    "# Method of selecting samples for training each tree\n",
    "bootstrap = [False]\n",
    "# Create the random grid\n",
    "random_grid = {'n_estimators': n_estimators,\n",
    "               'max_features': max_features,\n",
    "               'max_depth': max_depth,\n",
    "               'min_samples_split': min_samples_split,\n",
    "               'min_samples_leaf': min_samples_leaf,\n",
    "               'bootstrap': bootstrap}\n",
    "\n",
    "random_grid"
   ]
  },
  {
   "cell_type": "code",
   "execution_count": 307,
   "metadata": {},
   "outputs": [],
   "source": [
    "param_grid = random_grid #conducted RandomizedSearchCV, then conducted GridSearchCV after one finely tuned list of parameters"
   ]
  },
  {
   "cell_type": "code",
   "execution_count": 308,
   "metadata": {},
   "outputs": [
    {
     "name": "stdout",
     "output_type": "stream",
     "text": [
      "Fitting 3 folds for each of 1320 candidates, totalling 3960 fits\n"
     ]
    },
    {
     "name": "stderr",
     "output_type": "stream",
     "text": [
      "[Parallel(n_jobs=-1)]: Using backend LokyBackend with 4 concurrent workers.\n",
      "[Parallel(n_jobs=-1)]: Done  33 tasks      | elapsed:   18.2s\n",
      "[Parallel(n_jobs=-1)]: Done 154 tasks      | elapsed:  1.2min\n",
      "[Parallel(n_jobs=-1)]: Done 357 tasks      | elapsed:  2.4min\n",
      "[Parallel(n_jobs=-1)]: Done 640 tasks      | elapsed:  4.7min\n",
      "[Parallel(n_jobs=-1)]: Done 1005 tasks      | elapsed:  8.6min\n",
      "[Parallel(n_jobs=-1)]: Done 1450 tasks      | elapsed: 14.6min\n",
      "[Parallel(n_jobs=-1)]: Done 1977 tasks      | elapsed: 23.3min\n",
      "[Parallel(n_jobs=-1)]: Done 2584 tasks      | elapsed: 32.5min\n",
      "[Parallel(n_jobs=-1)]: Done 3273 tasks      | elapsed: 43.2min\n",
      "[Parallel(n_jobs=-1)]: Done 3960 out of 3960 | elapsed: 55.5min finished\n"
     ]
    },
    {
     "data": {
      "text/plain": [
       "GridSearchCV(cv=3, error_score=nan,\n",
       "             estimator=RandomForestClassifier(bootstrap=True, ccp_alpha=0.0,\n",
       "                                              class_weight=None,\n",
       "                                              criterion='gini', max_depth=None,\n",
       "                                              max_features='auto',\n",
       "                                              max_leaf_nodes=None,\n",
       "                                              max_samples=None,\n",
       "                                              min_impurity_decrease=0.0,\n",
       "                                              min_impurity_split=None,\n",
       "                                              min_samples_leaf=1,\n",
       "                                              min_samples_split=2,\n",
       "                                              min_weight_fraction_leaf=0.0,\n",
       "                                              n_estimators=100, n_jobs=None,...\n",
       "                                              random_state=None, verbose=0,\n",
       "                                              warm_start=False),\n",
       "             iid='deprecated', n_jobs=-1,\n",
       "             param_grid={'bootstrap': [False],\n",
       "                         'max_depth': [1, 3, 5, 7, 9, 11, 13, 15, 17, 20, None],\n",
       "                         'max_features': ['auto', 'sqrt'],\n",
       "                         'min_samples_leaf': [1, 2, 4],\n",
       "                         'min_samples_split': [2, 5],\n",
       "                         'n_estimators': [100, 155, 211, 266, 322, 377, 433,\n",
       "                                          488, 544, 600]},\n",
       "             pre_dispatch='2*n_jobs', refit=True, return_train_score=False,\n",
       "             scoring=None, verbose=2)"
      ]
     },
     "execution_count": 308,
     "metadata": {},
     "output_type": "execute_result"
    }
   ],
   "source": [
    "# Use the random grid to search for best hyperparameters\n",
    "# First create the base model to tune\n",
    "rf = RandomForestClassifier()\n",
    "# Random search of parameters, using 3 fold cross validation, \n",
    "# search across 100 different combinations, and use all available cores\n",
    "rf_gridsearch = GridSearchCV(estimator = rf, param_grid = param_grid, cv = 3, verbose=2, n_jobs = -1)\n",
    "# Fit the random search model\n",
    "rf_gridsearch.fit(X_train, y_train)"
   ]
  },
  {
   "cell_type": "code",
   "execution_count": 309,
   "metadata": {},
   "outputs": [
    {
     "data": {
      "text/plain": [
       "{'bootstrap': False,\n",
       " 'max_depth': 17,\n",
       " 'max_features': 'auto',\n",
       " 'min_samples_leaf': 1,\n",
       " 'min_samples_split': 5,\n",
       " 'n_estimators': 100}"
      ]
     },
     "execution_count": 309,
     "metadata": {},
     "output_type": "execute_result"
    }
   ],
   "source": [
    "rf_gridsearch.best_params_"
   ]
  },
  {
   "cell_type": "code",
   "execution_count": 412,
   "metadata": {},
   "outputs": [
    {
     "data": {
      "text/plain": [
       "(0.7747641509433962, 1.0)"
      ]
     },
     "execution_count": 412,
     "metadata": {},
     "output_type": "execute_result"
    }
   ],
   "source": [
    "RFmod = RandomForestClassifier(n_estimators = 100, min_samples_split = 5, min_samples_leaf = 1, \n",
    "                               max_features = 'auto', max_depth = 17, bootstrap = False)\n",
    "RFmod.fit(X_train, y_train)\n",
    "#RFmod = rf_random.best_estimator_\n",
    "RFmod.score(X_test,y_test), RFmod.score(X_train,y_train)"
   ]
  },
  {
   "cell_type": "code",
   "execution_count": 413,
   "metadata": {},
   "outputs": [
    {
     "data": {
      "text/plain": [
       "array([0.03029918, 0.05270752, 0.04818924, 0.0684342 , 0.0525628 ,\n",
       "       0.07314626, 0.07520865, 0.12533651, 0.06642836, 0.03766975,\n",
       "       0.03951294, 0.01147579, 0.01790334, 0.03627936, 0.03440494,\n",
       "       0.03817393, 0.01128978, 0.01387764, 0.02352606, 0.03052166,\n",
       "       0.03347393, 0.03498566, 0.04459249])"
      ]
     },
     "execution_count": 413,
     "metadata": {},
     "output_type": "execute_result"
    }
   ],
   "source": [
    "RFmod.feature_importances_"
   ]
  },
  {
   "cell_type": "code",
   "execution_count": 414,
   "metadata": {},
   "outputs": [],
   "source": [
    "node_purity = pd.DataFrame(numerical_estimators2)\n",
    "node_purity['purity'] = RFmod.feature_importances_"
   ]
  },
  {
   "cell_type": "code",
   "execution_count": 415,
   "metadata": {},
   "outputs": [
    {
     "data": {
      "text/html": [
       "<div>\n",
       "<style scoped>\n",
       "    .dataframe tbody tr th:only-of-type {\n",
       "        vertical-align: middle;\n",
       "    }\n",
       "\n",
       "    .dataframe tbody tr th {\n",
       "        vertical-align: top;\n",
       "    }\n",
       "\n",
       "    .dataframe thead th {\n",
       "        text-align: right;\n",
       "    }\n",
       "</style>\n",
       "<table border=\"1\" class=\"dataframe\">\n",
       "  <thead>\n",
       "    <tr style=\"text-align: right;\">\n",
       "      <th></th>\n",
       "      <th>0</th>\n",
       "      <th>purity</th>\n",
       "    </tr>\n",
       "  </thead>\n",
       "  <tbody>\n",
       "    <tr>\n",
       "      <th>7</th>\n",
       "      <td>Smokers_Percentage</td>\n",
       "      <td>0.125337</td>\n",
       "    </tr>\n",
       "    <tr>\n",
       "      <th>6</th>\n",
       "      <td>StrokeMortality</td>\n",
       "      <td>0.075209</td>\n",
       "    </tr>\n",
       "    <tr>\n",
       "      <th>5</th>\n",
       "      <td>HeartDiseaseMortality</td>\n",
       "      <td>0.073146</td>\n",
       "    </tr>\n",
       "    <tr>\n",
       "      <th>3</th>\n",
       "      <td>PopulationDensityperSqMile2010</td>\n",
       "      <td>0.068434</td>\n",
       "    </tr>\n",
       "    <tr>\n",
       "      <th>8</th>\n",
       "      <td>RespMortalityRate2014</td>\n",
       "      <td>0.066428</td>\n",
       "    </tr>\n",
       "    <tr>\n",
       "      <th>1</th>\n",
       "      <td>PopulationEstimate2018</td>\n",
       "      <td>0.052708</td>\n",
       "    </tr>\n",
       "    <tr>\n",
       "      <th>4</th>\n",
       "      <td>DiabetesPercentage</td>\n",
       "      <td>0.052563</td>\n",
       "    </tr>\n",
       "    <tr>\n",
       "      <th>2</th>\n",
       "      <td>PopulationEstimate65+2017</td>\n",
       "      <td>0.048189</td>\n",
       "    </tr>\n",
       "    <tr>\n",
       "      <th>22</th>\n",
       "      <td>3-YrMortalityAge85+Years2015-17</td>\n",
       "      <td>0.044592</td>\n",
       "    </tr>\n",
       "    <tr>\n",
       "      <th>10</th>\n",
       "      <td>TotalM.D.'s,TotNon-FedandFed2017</td>\n",
       "      <td>0.039513</td>\n",
       "    </tr>\n",
       "  </tbody>\n",
       "</table>\n",
       "</div>"
      ],
      "text/plain": [
       "                                   0    purity\n",
       "7                 Smokers_Percentage  0.125337\n",
       "6                    StrokeMortality  0.075209\n",
       "5              HeartDiseaseMortality  0.073146\n",
       "3     PopulationDensityperSqMile2010  0.068434\n",
       "8              RespMortalityRate2014  0.066428\n",
       "1             PopulationEstimate2018  0.052708\n",
       "4                 DiabetesPercentage  0.052563\n",
       "2          PopulationEstimate65+2017  0.048189\n",
       "22   3-YrMortalityAge85+Years2015-17  0.044592\n",
       "10  TotalM.D.'s,TotNon-FedandFed2017  0.039513"
      ]
     },
     "execution_count": 415,
     "metadata": {},
     "output_type": "execute_result"
    }
   ],
   "source": [
    "node_purity.sort_values(by=['purity'],ascending = False)[:10]"
   ]
  },
  {
   "cell_type": "code",
   "execution_count": 416,
   "metadata": {},
   "outputs": [],
   "source": [
    "yhat = RFmod.predict(X_test)"
   ]
  },
  {
   "cell_type": "code",
   "execution_count": 417,
   "metadata": {},
   "outputs": [
    {
     "data": {
      "text/plain": [
       "array([[565,  38],\n",
       "       [153,  92]])"
      ]
     },
     "execution_count": 417,
     "metadata": {},
     "output_type": "execute_result"
    }
   ],
   "source": [
    "confusion_matrix(y_test,yhat)"
   ]
  },
  {
   "cell_type": "code",
   "execution_count": 418,
   "metadata": {},
   "outputs": [],
   "source": [
    "tp = confusion_matrix(y_test,yhat)[1][1]\n",
    "tn = confusion_matrix(y_test,yhat)[0][0]\n",
    "fp = confusion_matrix(y_test,yhat)[0][1]\n",
    "fn = confusion_matrix(y_test,yhat)[1][0]"
   ]
  },
  {
   "cell_type": "code",
   "execution_count": 419,
   "metadata": {},
   "outputs": [
    {
     "data": {
      "text/plain": [
       "0.37551020408163266"
      ]
     },
     "execution_count": 419,
     "metadata": {},
     "output_type": "execute_result"
    }
   ],
   "source": [
    "tpr = tp/(tp+fn)\n",
    "tpr"
   ]
  },
  {
   "cell_type": "code",
   "execution_count": 420,
   "metadata": {},
   "outputs": [
    {
     "data": {
      "text/plain": [
       "0.9369817578772802"
      ]
     },
     "execution_count": 420,
     "metadata": {},
     "output_type": "execute_result"
    }
   ],
   "source": [
    "tnr = tn/(tn+fp) \n",
    "tnr"
   ]
  },
  {
   "cell_type": "code",
   "execution_count": 421,
   "metadata": {},
   "outputs": [],
   "source": [
    "goodsubset = list(node_purity.sort_values(by=['purity'],ascending = False)[:5][0])"
   ]
  },
  {
   "cell_type": "code",
   "execution_count": 422,
   "metadata": {},
   "outputs": [
    {
     "data": {
      "text/plain": [
       "['Smokers_Percentage',\n",
       " 'StrokeMortality',\n",
       " 'HeartDiseaseMortality',\n",
       " 'PopulationDensityperSqMile2010',\n",
       " 'RespMortalityRate2014']"
      ]
     },
     "execution_count": 422,
     "metadata": {},
     "output_type": "execute_result"
    }
   ],
   "source": [
    "goodsubset"
   ]
  },
  {
   "cell_type": "code",
   "execution_count": 423,
   "metadata": {},
   "outputs": [],
   "source": [
    "X_train2, X_test2, y_train2, y_test2 = train_test_split(dfmaster[goodsubset], dfmaster['Score'], test_size=0.3)"
   ]
  },
  {
   "cell_type": "code",
   "execution_count": 424,
   "metadata": {},
   "outputs": [
    {
     "data": {
      "text/plain": [
       "(0.7476415094339622, 1.0)"
      ]
     },
     "execution_count": 424,
     "metadata": {},
     "output_type": "execute_result"
    }
   ],
   "source": [
    "simpRFmod = RandomForestClassifier()\n",
    "simpRFmod.fit(X_train2,y_train2)\n",
    "simpRFmod.score(X_test2,y_test2), simpRFmod.score(X_train2,y_train2)"
   ]
  },
  {
   "cell_type": "code",
   "execution_count": 425,
   "metadata": {},
   "outputs": [
    {
     "data": {
      "text/plain": [
       "array([[554,  49],\n",
       "       [165,  80]])"
      ]
     },
     "execution_count": 425,
     "metadata": {},
     "output_type": "execute_result"
    }
   ],
   "source": [
    "simp_yhat = simpRFmod.predict(X_test2)\n",
    "confusion_matrix(y_test2,simp_yhat)"
   ]
  },
  {
   "cell_type": "code",
   "execution_count": 426,
   "metadata": {},
   "outputs": [],
   "source": [
    "tp = confusion_matrix(y_test2,simp_yhat)[1][1]\n",
    "tn = confusion_matrix(y_test2,simp_yhat)[0][0]\n",
    "fp = confusion_matrix(y_test2,simp_yhat)[0][1]\n",
    "fn = confusion_matrix(y_test2,simp_yhat)[1][0]"
   ]
  },
  {
   "cell_type": "code",
   "execution_count": 427,
   "metadata": {},
   "outputs": [
    {
     "data": {
      "text/plain": [
       "0.32653061224489793"
      ]
     },
     "execution_count": 427,
     "metadata": {},
     "output_type": "execute_result"
    }
   ],
   "source": [
    "tpr = tp/(tp+fn)\n",
    "tpr"
   ]
  },
  {
   "cell_type": "code",
   "execution_count": 428,
   "metadata": {},
   "outputs": [
    {
     "data": {
      "text/plain": [
       "0.9187396351575456"
      ]
     },
     "execution_count": 428,
     "metadata": {},
     "output_type": "execute_result"
    }
   ],
   "source": [
    "tnr = tn/(tn+fp)\n",
    "tnr"
   ]
  }
 ],
 "metadata": {
  "kernelspec": {
   "display_name": "Python 3",
   "language": "python",
   "name": "python3"
  },
  "language_info": {
   "codemirror_mode": {
    "name": "ipython",
    "version": 3
   },
   "file_extension": ".py",
   "mimetype": "text/x-python",
   "name": "python",
   "nbconvert_exporter": "python",
   "pygments_lexer": "ipython3",
   "version": "3.7.6"
  }
 },
 "nbformat": 4,
 "nbformat_minor": 4
}
